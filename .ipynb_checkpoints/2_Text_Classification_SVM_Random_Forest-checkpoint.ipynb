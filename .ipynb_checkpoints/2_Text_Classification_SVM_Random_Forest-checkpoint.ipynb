{
 "cells": [
  {
   "cell_type": "markdown",
   "metadata": {},
   "source": [
    "## Table of Contents:\n",
    "\n",
    "1. Introduction and Importing Libraries\n",
    "2. Data Preprocessing and Feature Engineering\n",
    "3. Model Building- Machine Learning\n",
    "    a. SVM\n",
    "    b. Random Forest\n",
    "\n",
    "4. Hyperparameter Tuning\n",
    "5. Conclusion and Saving the Model\n"
   ]
  },
  {
   "cell_type": "markdown",
   "metadata": {},
   "source": [
    "## 1. Introduction and Importing Libraries"
   ]
  },
  {
   "cell_type": "code",
   "execution_count": 1,
   "metadata": {},
   "outputs": [],
   "source": [
    "\n",
    "import pandas as pd\n",
    "import numpy as np\n",
    "\n",
    "from matplotlib import pyplot as plt\n",
    "import seaborn as sns\n",
    "\n",
    "from sklearn.feature_extraction.text import TfidfVectorizer\n",
    "\n",
    "import nltk\n",
    "\n",
    "from sklearn.model_selection import train_test_split\n",
    "from sklearn.model_selection import GridSearchCV\n",
    "\n",
    "from sklearn.neighbors import KNeighborsClassifier\n",
    "from sklearn.ensemble import RandomForestClassifier\n",
    "\n",
    "from sklearn.metrics import accuracy_score, confusion_matrix, classification_report\n",
    "\n",
    "import xgboost as xgb"
   ]
  },
  {
   "cell_type": "code",
   "execution_count": 2,
   "metadata": {},
   "outputs": [
    {
     "data": {
      "text/html": [
       "<div>\n",
       "<style scoped>\n",
       "    .dataframe tbody tr th:only-of-type {\n",
       "        vertical-align: middle;\n",
       "    }\n",
       "\n",
       "    .dataframe tbody tr th {\n",
       "        vertical-align: top;\n",
       "    }\n",
       "\n",
       "    .dataframe thead th {\n",
       "        text-align: right;\n",
       "    }\n",
       "</style>\n",
       "<table border=\"1\" class=\"dataframe\">\n",
       "  <thead>\n",
       "    <tr style=\"text-align: right;\">\n",
       "      <th></th>\n",
       "      <th>Article</th>\n",
       "      <th>Summary</th>\n",
       "      <th>Category</th>\n",
       "      <th>Article_Length</th>\n",
       "      <th>Summary_Length</th>\n",
       "    </tr>\n",
       "  </thead>\n",
       "  <tbody>\n",
       "    <tr>\n",
       "      <th>0</th>\n",
       "      <td>ad sales boost time warner profitquarterly pro...</td>\n",
       "      <td>timewarner said fourth quarter sales rose to b...</td>\n",
       "      <td>business</td>\n",
       "      <td>403</td>\n",
       "      <td>125</td>\n",
       "    </tr>\n",
       "    <tr>\n",
       "      <th>1</th>\n",
       "      <td>dollar gains on greenspan speechthe dollar has...</td>\n",
       "      <td>the dollar has hit its highest level against t...</td>\n",
       "      <td>business</td>\n",
       "      <td>377</td>\n",
       "      <td>159</td>\n",
       "    </tr>\n",
       "    <tr>\n",
       "      <th>2</th>\n",
       "      <td>yukos unit buyer faces loan claimthe owners of...</td>\n",
       "      <td>yukos owner menatep group says it will ask ros...</td>\n",
       "      <td>business</td>\n",
       "      <td>261</td>\n",
       "      <td>121</td>\n",
       "    </tr>\n",
       "    <tr>\n",
       "      <th>3</th>\n",
       "      <td>high fuel prices hit bas profitsbritish airway...</td>\n",
       "      <td>rod eddington bas chief executive said the res...</td>\n",
       "      <td>business</td>\n",
       "      <td>376</td>\n",
       "      <td>186</td>\n",
       "    </tr>\n",
       "    <tr>\n",
       "      <th>4</th>\n",
       "      <td>pernod takeover talk lifts domecqshares in uk ...</td>\n",
       "      <td>pernod has reduced the debt it took on to fund...</td>\n",
       "      <td>business</td>\n",
       "      <td>254</td>\n",
       "      <td>100</td>\n",
       "    </tr>\n",
       "  </tbody>\n",
       "</table>\n",
       "</div>"
      ],
      "text/plain": [
       "                                             Article  \\\n",
       "0  ad sales boost time warner profitquarterly pro...   \n",
       "1  dollar gains on greenspan speechthe dollar has...   \n",
       "2  yukos unit buyer faces loan claimthe owners of...   \n",
       "3  high fuel prices hit bas profitsbritish airway...   \n",
       "4  pernod takeover talk lifts domecqshares in uk ...   \n",
       "\n",
       "                                             Summary  Category  \\\n",
       "0  timewarner said fourth quarter sales rose to b...  business   \n",
       "1  the dollar has hit its highest level against t...  business   \n",
       "2  yukos owner menatep group says it will ask ros...  business   \n",
       "3  rod eddington bas chief executive said the res...  business   \n",
       "4  pernod has reduced the debt it took on to fund...  business   \n",
       "\n",
       "   Article_Length  Summary_Length  \n",
       "0             403             125  \n",
       "1             377             159  \n",
       "2             261             121  \n",
       "3             376             186  \n",
       "4             254             100  "
      ]
     },
     "execution_count": 2,
     "metadata": {},
     "output_type": "execute_result"
    }
   ],
   "source": [
    "df = pd.read_csv('Resources/BBC_News_Summary.csv')\n",
    "df.head()\n"
   ]
  },
  {
   "cell_type": "code",
   "execution_count": 3,
   "metadata": {},
   "outputs": [
    {
     "data": {
      "text/plain": [
       "Article           0\n",
       "Summary           0\n",
       "Category          0\n",
       "Article_Length    0\n",
       "Summary_Length    0\n",
       "dtype: int64"
      ]
     },
     "execution_count": 3,
     "metadata": {},
     "output_type": "execute_result"
    }
   ],
   "source": [
    "\n",
    "# Drop NULL values\n",
    "df.dropna(inplace=True)\n",
    "\n",
    "# Drop duplicates\n",
    "df.drop_duplicates(inplace=True)\n",
    "\n",
    "# Reset index\n",
    "df.reset_index(drop=True, inplace=True)\n",
    "\n",
    "# Check for null values\n",
    "df.isnull().sum()"
   ]
  },
  {
   "cell_type": "markdown",
   "metadata": {},
   "source": [
    "## 2. Data Preprocessing and Feature Engineering"
   ]
  },
  {
   "cell_type": "code",
   "execution_count": 4,
   "metadata": {},
   "outputs": [
    {
     "data": {
      "text/html": [
       "<div>\n",
       "<style scoped>\n",
       "    .dataframe tbody tr th:only-of-type {\n",
       "        vertical-align: middle;\n",
       "    }\n",
       "\n",
       "    .dataframe tbody tr th {\n",
       "        vertical-align: top;\n",
       "    }\n",
       "\n",
       "    .dataframe thead th {\n",
       "        text-align: right;\n",
       "    }\n",
       "</style>\n",
       "<table border=\"1\" class=\"dataframe\">\n",
       "  <thead>\n",
       "    <tr style=\"text-align: right;\">\n",
       "      <th></th>\n",
       "      <th>Article</th>\n",
       "      <th>Summary</th>\n",
       "      <th>Category</th>\n",
       "      <th>Article_Length</th>\n",
       "      <th>Summary_Length</th>\n",
       "      <th>clean_text</th>\n",
       "    </tr>\n",
       "  </thead>\n",
       "  <tbody>\n",
       "    <tr>\n",
       "      <th>0</th>\n",
       "      <td>ad sales boost time warner profitquarterly pro...</td>\n",
       "      <td>timewarner said fourth quarter sales rose to b...</td>\n",
       "      <td>business</td>\n",
       "      <td>403</td>\n",
       "      <td>125</td>\n",
       "      <td>ad sale boost time warner profitquarterly prof...</td>\n",
       "    </tr>\n",
       "    <tr>\n",
       "      <th>1</th>\n",
       "      <td>dollar gains on greenspan speechthe dollar has...</td>\n",
       "      <td>the dollar has hit its highest level against t...</td>\n",
       "      <td>business</td>\n",
       "      <td>377</td>\n",
       "      <td>159</td>\n",
       "      <td>dollar gain greenspan speechthe dollar hit hig...</td>\n",
       "    </tr>\n",
       "    <tr>\n",
       "      <th>2</th>\n",
       "      <td>yukos unit buyer faces loan claimthe owners of...</td>\n",
       "      <td>yukos owner menatep group says it will ask ros...</td>\n",
       "      <td>business</td>\n",
       "      <td>261</td>\n",
       "      <td>121</td>\n",
       "      <td>yukos unit buyer face loan claimthe owner emba...</td>\n",
       "    </tr>\n",
       "    <tr>\n",
       "      <th>3</th>\n",
       "      <td>high fuel prices hit bas profitsbritish airway...</td>\n",
       "      <td>rod eddington bas chief executive said the res...</td>\n",
       "      <td>business</td>\n",
       "      <td>376</td>\n",
       "      <td>186</td>\n",
       "      <td>high fuel price hit ba profitsbritish airway b...</td>\n",
       "    </tr>\n",
       "    <tr>\n",
       "      <th>4</th>\n",
       "      <td>pernod takeover talk lifts domecqshares in uk ...</td>\n",
       "      <td>pernod has reduced the debt it took on to fund...</td>\n",
       "      <td>business</td>\n",
       "      <td>254</td>\n",
       "      <td>100</td>\n",
       "      <td>pernod takeover talk lift domecqshares uk drin...</td>\n",
       "    </tr>\n",
       "  </tbody>\n",
       "</table>\n",
       "</div>"
      ],
      "text/plain": [
       "                                             Article  \\\n",
       "0  ad sales boost time warner profitquarterly pro...   \n",
       "1  dollar gains on greenspan speechthe dollar has...   \n",
       "2  yukos unit buyer faces loan claimthe owners of...   \n",
       "3  high fuel prices hit bas profitsbritish airway...   \n",
       "4  pernod takeover talk lifts domecqshares in uk ...   \n",
       "\n",
       "                                             Summary  Category  \\\n",
       "0  timewarner said fourth quarter sales rose to b...  business   \n",
       "1  the dollar has hit its highest level against t...  business   \n",
       "2  yukos owner menatep group says it will ask ros...  business   \n",
       "3  rod eddington bas chief executive said the res...  business   \n",
       "4  pernod has reduced the debt it took on to fund...  business   \n",
       "\n",
       "   Article_Length  Summary_Length  \\\n",
       "0             403             125   \n",
       "1             377             159   \n",
       "2             261             121   \n",
       "3             376             186   \n",
       "4             254             100   \n",
       "\n",
       "                                          clean_text  \n",
       "0  ad sale boost time warner profitquarterly prof...  \n",
       "1  dollar gain greenspan speechthe dollar hit hig...  \n",
       "2  yukos unit buyer face loan claimthe owner emba...  \n",
       "3  high fuel price hit ba profitsbritish airway b...  \n",
       "4  pernod takeover talk lift domecqshares uk drin...  "
      ]
     },
     "execution_count": 4,
     "metadata": {},
     "output_type": "execute_result"
    }
   ],
   "source": [
    "\n",
    "def clean_text(text):\n",
    "\n",
    "    # Remove stopwords\n",
    "    stop_words = set(nltk.corpus.stopwords.words('english'))\n",
    "    word_tokens = nltk.word_tokenize(text)\n",
    "    filtered_sentence = [w for w in word_tokens if not w in stop_words]\n",
    "\n",
    "    # Remove punctuation\n",
    "    filtered_sentence = [w for w in filtered_sentence if w.isalpha()]\n",
    "\n",
    "    # Lemmatize\n",
    "    lemmatizer = nltk.stem.WordNetLemmatizer()\n",
    "    lemmatized = [lemmatizer.lemmatize(word) for word in filtered_sentence]\n",
    "\n",
    "    return \" \".join(lemmatized)\n",
    "\n",
    "\n",
    "df['clean_text'] = df['Article'].apply(clean_text)\n",
    "df.head()\n"
   ]
  },
  {
   "cell_type": "code",
   "execution_count": 5,
   "metadata": {},
   "outputs": [
    {
     "data": {
      "text/html": [
       "<div>\n",
       "<style scoped>\n",
       "    .dataframe tbody tr th:only-of-type {\n",
       "        vertical-align: middle;\n",
       "    }\n",
       "\n",
       "    .dataframe tbody tr th {\n",
       "        vertical-align: top;\n",
       "    }\n",
       "\n",
       "    .dataframe thead th {\n",
       "        text-align: right;\n",
       "    }\n",
       "</style>\n",
       "<table border=\"1\" class=\"dataframe\">\n",
       "  <thead>\n",
       "    <tr style=\"text-align: right;\">\n",
       "      <th></th>\n",
       "      <th>clean_text</th>\n",
       "      <th>Category</th>\n",
       "    </tr>\n",
       "  </thead>\n",
       "  <tbody>\n",
       "    <tr>\n",
       "      <th>0</th>\n",
       "      <td>ad sale boost time warner profitquarterly prof...</td>\n",
       "      <td>business</td>\n",
       "    </tr>\n",
       "    <tr>\n",
       "      <th>1</th>\n",
       "      <td>dollar gain greenspan speechthe dollar hit hig...</td>\n",
       "      <td>business</td>\n",
       "    </tr>\n",
       "    <tr>\n",
       "      <th>2</th>\n",
       "      <td>yukos unit buyer face loan claimthe owner emba...</td>\n",
       "      <td>business</td>\n",
       "    </tr>\n",
       "    <tr>\n",
       "      <th>3</th>\n",
       "      <td>high fuel price hit ba profitsbritish airway b...</td>\n",
       "      <td>business</td>\n",
       "    </tr>\n",
       "    <tr>\n",
       "      <th>4</th>\n",
       "      <td>pernod takeover talk lift domecqshares uk drin...</td>\n",
       "      <td>business</td>\n",
       "    </tr>\n",
       "  </tbody>\n",
       "</table>\n",
       "</div>"
      ],
      "text/plain": [
       "                                          clean_text  Category\n",
       "0  ad sale boost time warner profitquarterly prof...  business\n",
       "1  dollar gain greenspan speechthe dollar hit hig...  business\n",
       "2  yukos unit buyer face loan claimthe owner emba...  business\n",
       "3  high fuel price hit ba profitsbritish airway b...  business\n",
       "4  pernod takeover talk lift domecqshares uk drin...  business"
      ]
     },
     "execution_count": 5,
     "metadata": {},
     "output_type": "execute_result"
    }
   ],
   "source": [
    "\n",
    "df = df[['clean_text', 'Category']]\n",
    "\n",
    "df.head()\n"
   ]
  },
  {
   "cell_type": "code",
   "execution_count": 6,
   "metadata": {},
   "outputs": [
    {
     "data": {
      "text/plain": [
       "sport            504\n",
       "business         503\n",
       "politics         403\n",
       "entertainment    369\n",
       "tech             346\n",
       "Name: Category, dtype: int64"
      ]
     },
     "execution_count": 6,
     "metadata": {},
     "output_type": "execute_result"
    }
   ],
   "source": [
    "df['Category'].value_counts()\n"
   ]
  },
  {
   "cell_type": "code",
   "execution_count": 7,
   "metadata": {},
   "outputs": [
    {
     "name": "stdout",
     "output_type": "stream",
     "text": [
      "Training set shape: (1593, 5000) (1593,)\n",
      "Test set shape: (532, 5000) (532,)\n"
     ]
    }
   ],
   "source": [
    "\n",
    "\n",
    "# Create the TF-IDF vectorizer\n",
    "vectorizer = TfidfVectorizer(max_features=5000)\n",
    "\n",
    "# Transform the text into TF-IDF vectors\n",
    "X = vectorizer.fit_transform(df['clean_text'])\n",
    "\n",
    "# Create a dataframe from the TF-IDF vectors\n",
    "X = pd.DataFrame.sparse.from_spmatrix(X)\n",
    "\n",
    "# Create the target vector\n",
    "y = df['Category']\n",
    "\n",
    "\n",
    "# Split the dataframe into training and test sets\n",
    "\n",
    "X_train, X_test, y_train, y_test = train_test_split(X, y, random_state=42)\n",
    "\n",
    "print('Training set shape:', X_train.shape, y_train.shape)\n",
    "print('Test set shape:', X_test.shape, y_test.shape)\n"
   ]
  },
  {
   "cell_type": "code",
   "execution_count": 8,
   "metadata": {},
   "outputs": [
    {
     "data": {
      "text/plain": [
       "sport            373\n",
       "business         369\n",
       "politics         323\n",
       "entertainment    273\n",
       "tech             255\n",
       "Name: Category, dtype: int64"
      ]
     },
     "execution_count": 8,
     "metadata": {},
     "output_type": "execute_result"
    }
   ],
   "source": [
    "\n",
    "# Value counts of Y train\n",
    "y_train.value_counts()\n"
   ]
  },
  {
   "cell_type": "code",
   "execution_count": 9,
   "metadata": {},
   "outputs": [
    {
     "data": {
      "text/plain": [
       "business         134\n",
       "sport            131\n",
       "entertainment     96\n",
       "tech              91\n",
       "politics          80\n",
       "Name: Category, dtype: int64"
      ]
     },
     "execution_count": 9,
     "metadata": {},
     "output_type": "execute_result"
    }
   ],
   "source": [
    "\n",
    "# Value count in Y-test\n",
    "y_test.value_counts()\n"
   ]
  },
  {
   "cell_type": "code",
   "execution_count": 10,
   "metadata": {},
   "outputs": [
    {
     "name": "stdout",
     "output_type": "stream",
     "text": [
      "['business' 'entertainment' 'politics' 'sport' 'tech']\n"
     ]
    }
   ],
   "source": [
    "\n",
    "# Get Label names\n",
    "\n",
    "labels = df['Category'].unique()\n",
    "print(labels)\n"
   ]
  },
  {
   "cell_type": "code",
   "execution_count": 11,
   "metadata": {},
   "outputs": [],
   "source": [
    "\n",
    "# import Label Encoder\n",
    "\n",
    "from sklearn.preprocessing import LabelEncoder\n",
    "\n",
    "# Encode the labels\n",
    "\n",
    "le = LabelEncoder()\n",
    "\n",
    "# Fit the encoder\n",
    "\n",
    "le.fit(y_train)\n",
    "le.fit(y_test)\n",
    "\n",
    "# Transform the labels\n",
    "\n",
    "y_train = le.transform(y_train)\n",
    "y_test = le.transform(y_test)"
   ]
  },
  {
   "cell_type": "markdown",
   "metadata": {},
   "source": [
    "## 3. Model Building- Machine Learning"
   ]
  },
  {
   "cell_type": "markdown",
   "metadata": {},
   "source": [
    "### a. KNN"
   ]
  },
  {
   "cell_type": "code",
   "execution_count": 12,
   "metadata": {},
   "outputs": [
    {
     "name": "stdout",
     "output_type": "stream",
     "text": [
      "Accuracy: 0.9323308270676691\n",
      "Classification Report:\n",
      "               precision    recall  f1-score   support\n",
      "\n",
      "           0       0.95      0.87      0.91       134\n",
      "           1       0.99      0.89      0.93        96\n",
      "           2       0.85      0.95      0.90        80\n",
      "           3       0.95      1.00      0.97       131\n",
      "           4       0.91      0.97      0.94        91\n",
      "\n",
      "    accuracy                           0.93       532\n",
      "   macro avg       0.93      0.93      0.93       532\n",
      "weighted avg       0.94      0.93      0.93       532\n",
      "\n"
     ]
    }
   ],
   "source": [
    "\n",
    "# KNN Model\n",
    "knn_model=KNeighborsClassifier(n_neighbors=5)\n",
    "\n",
    "knn_model.fit(X_train,y_train)\n",
    "\n",
    "\n",
    "# Predict\n",
    "y_pred=knn_model.predict(X_test)\n",
    "\n",
    "\n",
    "# Evaluate the model\n",
    "print('Accuracy:', accuracy_score(y_test, y_pred))\n",
    "print('Classification Report:\\n', classification_report(y_test, y_pred))\n"
   ]
  },
  {
   "cell_type": "code",
   "execution_count": 13,
   "metadata": {},
   "outputs": [
    {
     "data": {
      "image/png": "[encoded data removed]",
      "text/plain": [
       "<Figure size 1000x800 with 2 Axes>"
      ]
     },
     "metadata": {},
     "output_type": "display_data"
    }
   ],
   "source": [
    "\n",
    "# Confusion matrix\n",
    "\n",
    "cm = confusion_matrix(y_pred, y_test)\n",
    "\n",
    "# Plot the confusion matrix\n",
    "\n",
    "plt.figure(figsize=(10, 8))\n",
    "\n",
    "# Print value in boxes in format\n",
    "sns.heatmap(cm, annot=True, xticklabels=labels,\n",
    "            yticklabels=labels, cmap='Blues')\n",
    "\n",
    "# Labels\n",
    "\n",
    "plt.xlabel('Predicted')\n",
    "plt.ylabel('Actual')\n",
    "\n",
    "# Title\n",
    "\n",
    "plt.title('Confusion Matrix for KNN Model')\n",
    "\n",
    "# Save the plot\n",
    "\n",
    "plt.savefig('Resources/Confusion_Matrix_KNN.png',\n",
    "            dpi=300, bbox_inches='tight')\n"
   ]
  },
  {
   "cell_type": "markdown",
   "metadata": {},
   "source": [
    "### b. Random Forest Classifier"
   ]
  },
  {
   "cell_type": "code",
   "execution_count": 14,
   "metadata": {},
   "outputs": [
    {
     "name": "stdout",
     "output_type": "stream",
     "text": [
      "Accuracy: 0.9624060150375939\n",
      "Classification Report:\n",
      "               precision    recall  f1-score   support\n",
      "\n",
      "           0       0.95      0.97      0.96       134\n",
      "           1       0.99      0.94      0.96        96\n",
      "           2       0.91      0.90      0.91        80\n",
      "           3       0.98      0.99      0.98       131\n",
      "           4       0.98      0.99      0.98        91\n",
      "\n",
      "    accuracy                           0.96       532\n",
      "   macro avg       0.96      0.96      0.96       532\n",
      "weighted avg       0.96      0.96      0.96       532\n",
      "\n"
     ]
    }
   ],
   "source": [
    "\n",
    "# Create the model\n",
    "\n",
    "rf_model = RandomForestClassifier()\n",
    "\n",
    "# Fit the model\n",
    "\n",
    "rf_model.fit(X_train, y_train)\n",
    "\n",
    "\n",
    "# Make predictions\n",
    "y_pred = rf_model.predict(X_test)\n",
    "\n",
    "\n",
    "# Evaluate the model\n",
    "print('Accuracy:', accuracy_score(y_test, y_pred))\n",
    "print('Classification Report:\\n', classification_report(y_test, y_pred))\n"
   ]
  },
  {
   "cell_type": "code",
   "execution_count": 15,
   "metadata": {},
   "outputs": [
    {
     "data": {
      "image/png": "[encoded data removed]",
      "text/plain": [
       "<Figure size 1000x800 with 2 Axes>"
      ]
     },
     "metadata": {},
     "output_type": "display_data"
    }
   ],
   "source": [
    "\n",
    "# Confusion matrix\n",
    "\n",
    "cm = confusion_matrix(y_pred, y_test)\n",
    "\n",
    "# Plot the confusion matrix\n",
    "\n",
    "plt.figure(figsize=(10, 8))\n",
    "\n",
    "# Print value in boxes in format\n",
    "sns.heatmap(cm, annot=True, xticklabels=labels,\n",
    "            yticklabels=labels, cmap='Blues')\n",
    "\n",
    "# Labels\n",
    "\n",
    "plt.xlabel('Predicted')\n",
    "plt.ylabel('Actual')\n",
    "\n",
    "# Title\n",
    "\n",
    "plt.title('Confusion Matrix for Random Forest Model')\n",
    "\n",
    "# Save the plot\n",
    "\n",
    "plt.savefig('Resources/Confusion_Matrix_Random_Forest.png',\n",
    "            dpi=300, bbox_inches='tight')\n"
   ]
  },
  {
   "cell_type": "markdown",
   "metadata": {},
   "source": [
    "### c. X-Gradient Boosting"
   ]
  },
  {
   "cell_type": "code",
   "execution_count": 16,
   "metadata": {},
   "outputs": [
    {
     "name": "stdout",
     "output_type": "stream",
     "text": [
      "Accuracy: 0.9473684210526315\n",
      "Classification Report:\n",
      "               precision    recall  f1-score   support\n",
      "\n",
      "           0       0.93      0.92      0.92       134\n",
      "           1       0.97      0.92      0.94        96\n",
      "           2       0.90      0.91      0.91        80\n",
      "           3       0.98      1.00      0.99       131\n",
      "           4       0.94      0.98      0.96        91\n",
      "\n",
      "    accuracy                           0.95       532\n",
      "   macro avg       0.94      0.95      0.94       532\n",
      "weighted avg       0.95      0.95      0.95       532\n",
      "\n"
     ]
    }
   ],
   "source": [
    "\n",
    "# Create the model\n",
    "\n",
    "xgb_model = xgb.XGBClassifier()\n",
    "\n",
    "# Fit the model\n",
    "\n",
    "xgb_model.fit(X_train, y_train)\n",
    "\n",
    "\n",
    "# Make predictions\n",
    "y_pred = xgb_model.predict(X_test)\n",
    "\n",
    "\n",
    "# Evaluate the model\n",
    "print('Accuracy:', accuracy_score(y_test, y_pred))\n",
    "print('Classification Report:\\n', classification_report(y_test, y_pred))"
   ]
  },
  {
   "cell_type": "code",
   "execution_count": 17,
   "metadata": {},
   "outputs": [
    {
     "data": {
      "image/png": "[encoded data removed]",
      "text/plain": [
       "<Figure size 1000x800 with 2 Axes>"
      ]
     },
     "metadata": {},
     "output_type": "display_data"
    }
   ],
   "source": [
    "\n",
    "# Confusion matrix\n",
    "\n",
    "cm = confusion_matrix(y_pred, y_test)\n",
    "\n",
    "# Plot the confusion matrix\n",
    "\n",
    "plt.figure(figsize=(10, 8))\n",
    "\n",
    "# Print value in boxes in format\n",
    "sns.heatmap(cm, annot=True, xticklabels=labels,\n",
    "            yticklabels=labels, cmap='Blues')\n",
    "\n",
    "# Labels\n",
    "\n",
    "plt.xlabel('Predicted')\n",
    "plt.ylabel('Actual')\n",
    "\n",
    "# Title\n",
    "\n",
    "plt.title('Confusion Matrix for XGBoosting Model')\n",
    "\n",
    "# Save the plot\n",
    "\n",
    "plt.savefig('Resources/Confusion_Matrix_XGBoost.png',\n",
    "            dpi=300, bbox_inches='tight')\n",
    "\n",
    "\n"
   ]
  },
  {
   "cell_type": "markdown",
   "metadata": {},
   "source": [
    "## 4. Hyperparameter Tuning- Random Forest"
   ]
  },
  {
   "cell_type": "code",
   "execution_count": 18,
   "metadata": {},
   "outputs": [
    {
     "name": "stdout",
     "output_type": "stream",
     "text": [
      "Fitting 5 folds for each of 24 candidates, totalling 120 fits\n",
      "[CV] END ...criterion=gini, max_depth=None, n_estimators=100; total time=   8.9s\n",
      "[CV] END ...criterion=gini, max_depth=None, n_estimators=100; total time=   9.9s\n",
      "[CV] END ...criterion=gini, max_depth=None, n_estimators=100; total time=  10.1s\n",
      "[CV] END ...criterion=gini, max_depth=None, n_estimators=100; total time=  11.5s\n",
      "[CV] END ...criterion=gini, max_depth=None, n_estimators=100; total time=  12.2s\n",
      "[CV] END ...criterion=gini, max_depth=None, n_estimators=200; total time=  12.2s\n",
      "[CV] END ...criterion=gini, max_depth=None, n_estimators=200; total time=  13.8s\n",
      "[CV] END ...criterion=gini, max_depth=None, n_estimators=200; total time=  13.2s\n",
      "[CV] END ...criterion=gini, max_depth=None, n_estimators=200; total time=  14.8s\n",
      "[CV] END ...criterion=gini, max_depth=None, n_estimators=200; total time=  14.2s\n",
      "[CV] END ...criterion=gini, max_depth=None, n_estimators=300; total time=  15.5s\n",
      "[CV] END ......criterion=gini, max_depth=1, n_estimators=100; total time=   8.9s\n",
      "[CV] END ...criterion=gini, max_depth=None, n_estimators=300; total time=  14.0s\n",
      "[CV] END ...criterion=gini, max_depth=None, n_estimators=300; total time=  17.0s\n",
      "[CV] END ...criterion=gini, max_depth=None, n_estimators=300; total time=  15.8s\n",
      "[CV] END ......criterion=gini, max_depth=1, n_estimators=100; total time=   8.2s\n",
      "[CV] END ......criterion=gini, max_depth=1, n_estimators=100; total time=   9.5s\n",
      "[CV] END ...criterion=gini, max_depth=None, n_estimators=300; total time=  15.9s\n",
      "[CV] END ......criterion=gini, max_depth=1, n_estimators=100; total time=   9.1s\n",
      "[CV] END ......criterion=gini, max_depth=1, n_estimators=100; total time=   8.3s\n",
      "[CV] END ......criterion=gini, max_depth=1, n_estimators=200; total time=   8.9s\n",
      "[CV] END ......criterion=gini, max_depth=1, n_estimators=200; total time=   9.9s\n",
      "[CV] END ......criterion=gini, max_depth=1, n_estimators=200; total time=   9.9s\n",
      "[CV] END ......criterion=gini, max_depth=1, n_estimators=200; total time=   9.6s\n",
      "[CV] END ......criterion=gini, max_depth=1, n_estimators=200; total time=  11.0s\n",
      "[CV] END ......criterion=gini, max_depth=1, n_estimators=300; total time=  11.0s\n",
      "[CV] END ......criterion=gini, max_depth=1, n_estimators=300; total time=   9.8s\n",
      "[CV] END ......criterion=gini, max_depth=1, n_estimators=300; total time=  10.8s\n",
      "[CV] END ......criterion=gini, max_depth=1, n_estimators=300; total time=  10.1s\n",
      "[CV] END ......criterion=gini, max_depth=3, n_estimators=100; total time=   9.4s\n",
      "[CV] END ......criterion=gini, max_depth=3, n_estimators=100; total time=   9.0s\n",
      "[CV] END ......criterion=gini, max_depth=1, n_estimators=300; total time=  11.6s\n",
      "[CV] END ......criterion=gini, max_depth=3, n_estimators=100; total time=   8.0s\n",
      "[CV] END ......criterion=gini, max_depth=3, n_estimators=100; total time=   8.2s\n",
      "[CV] END ......criterion=gini, max_depth=3, n_estimators=100; total time=   7.7s\n",
      "[CV] END ......criterion=gini, max_depth=3, n_estimators=200; total time=   8.5s\n",
      "[CV] END ......criterion=gini, max_depth=3, n_estimators=200; total time=   8.3s\n",
      "[CV] END ......criterion=gini, max_depth=3, n_estimators=200; total time=   8.5s\n",
      "[CV] END ......criterion=gini, max_depth=3, n_estimators=200; total time=   8.7s\n",
      "[CV] END ......criterion=gini, max_depth=3, n_estimators=200; total time=   9.2s\n",
      "[CV] END ......criterion=gini, max_depth=3, n_estimators=300; total time=   9.5s\n",
      "[CV] END ......criterion=gini, max_depth=3, n_estimators=300; total time=  10.1s\n",
      "[CV] END ......criterion=gini, max_depth=3, n_estimators=300; total time=   9.9s\n",
      "[CV] END ......criterion=gini, max_depth=3, n_estimators=300; total time=  10.7s\n",
      "[CV] END ......criterion=gini, max_depth=5, n_estimators=100; total time=   8.9s\n",
      "[CV] END ......criterion=gini, max_depth=3, n_estimators=300; total time=  10.6s\n",
      "[CV] END ......criterion=gini, max_depth=5, n_estimators=100; total time=   9.9s\n",
      "[CV] END ......criterion=gini, max_depth=5, n_estimators=100; total time=   8.1s\n",
      "[CV] END ......criterion=gini, max_depth=5, n_estimators=100; total time=   9.4s\n",
      "[CV] END ......criterion=gini, max_depth=5, n_estimators=100; total time=   8.9s\n",
      "[CV] END ......criterion=gini, max_depth=5, n_estimators=200; total time=  10.0s\n",
      "[CV] END ......criterion=gini, max_depth=5, n_estimators=200; total time=  10.0s\n",
      "[CV] END ......criterion=gini, max_depth=5, n_estimators=200; total time=   8.7s\n",
      "[CV] END ......criterion=gini, max_depth=5, n_estimators=200; total time=   8.8s\n",
      "[CV] END ......criterion=gini, max_depth=5, n_estimators=200; total time=  10.4s\n",
      "[CV] END ......criterion=gini, max_depth=5, n_estimators=300; total time=   9.5s\n",
      "[CV] END ......criterion=gini, max_depth=5, n_estimators=300; total time=  11.1s\n",
      "[CV] END ......criterion=gini, max_depth=5, n_estimators=300; total time=  11.5s\n",
      "[CV] END ......criterion=gini, max_depth=5, n_estimators=300; total time=  10.1s\n",
      "[CV] END ......criterion=gini, max_depth=5, n_estimators=300; total time=   9.8s\n",
      "[CV] END criterion=entropy, max_depth=None, n_estimators=100; total time=  11.9s\n",
      "[CV] END criterion=entropy, max_depth=None, n_estimators=100; total time=  11.3s\n",
      "[CV] END criterion=entropy, max_depth=None, n_estimators=100; total time=  12.3s\n",
      "[CV] END criterion=entropy, max_depth=None, n_estimators=100; total time=  11.8s\n",
      "[CV] END criterion=entropy, max_depth=None, n_estimators=100; total time=  11.4s\n",
      "[CV] END criterion=entropy, max_depth=None, n_estimators=200; total time=  13.0s\n",
      "[CV] END criterion=entropy, max_depth=None, n_estimators=200; total time=  12.2s\n",
      "[CV] END criterion=entropy, max_depth=None, n_estimators=200; total time=  13.0s\n",
      "[CV] END criterion=entropy, max_depth=None, n_estimators=200; total time=  11.3s\n",
      "[CV] END criterion=entropy, max_depth=None, n_estimators=200; total time=  12.9s\n",
      "[CV] END ...criterion=entropy, max_depth=1, n_estimators=100; total time=   6.0s\n",
      "[CV] END criterion=entropy, max_depth=None, n_estimators=300; total time=  16.0s\n",
      "[CV] END ...criterion=entropy, max_depth=1, n_estimators=100; total time=   6.4s\n",
      "[CV] END criterion=entropy, max_depth=None, n_estimators=300; total time=  15.6s\n",
      "[CV] END criterion=entropy, max_depth=None, n_estimators=300; total time=  15.0s\n",
      "[CV] END ...criterion=entropy, max_depth=1, n_estimators=100; total time=   6.7s\n",
      "[CV] END ...criterion=entropy, max_depth=1, n_estimators=100; total time=   6.4s\n",
      "[CV] END criterion=entropy, max_depth=None, n_estimators=300; total time=  16.2s\n",
      "[CV] END criterion=entropy, max_depth=None, n_estimators=300; total time=  16.0s\n",
      "[CV] END ...criterion=entropy, max_depth=1, n_estimators=100; total time=   7.8s\n",
      "[CV] END ...criterion=entropy, max_depth=1, n_estimators=200; total time=   7.7s\n",
      "[CV] END ...criterion=entropy, max_depth=1, n_estimators=200; total time=   7.4s\n",
      "[CV] END ...criterion=entropy, max_depth=1, n_estimators=200; total time=   8.3s\n",
      "[CV] END ...criterion=entropy, max_depth=1, n_estimators=200; total time=   8.7s\n",
      "[CV] END ...criterion=entropy, max_depth=1, n_estimators=200; total time=   8.3s\n",
      "[CV] END ...criterion=entropy, max_depth=1, n_estimators=300; total time=   9.8s\n",
      "[CV] END ...criterion=entropy, max_depth=1, n_estimators=300; total time=   9.3s\n",
      "[CV] END ...criterion=entropy, max_depth=1, n_estimators=300; total time=   9.2s\n",
      "[CV] END ...criterion=entropy, max_depth=3, n_estimators=100; total time=   8.0s\n",
      "[CV] END ...criterion=entropy, max_depth=1, n_estimators=300; total time=   9.4s\n",
      "[CV] END ...criterion=entropy, max_depth=1, n_estimators=300; total time=   9.8s\n",
      "[CV] END ...criterion=entropy, max_depth=3, n_estimators=100; total time=   7.3s\n",
      "[CV] END ...criterion=entropy, max_depth=3, n_estimators=100; total time=   7.2s\n",
      "[CV] END ...criterion=entropy, max_depth=3, n_estimators=100; total time=   7.1s\n",
      "[CV] END ...criterion=entropy, max_depth=3, n_estimators=100; total time=   6.6s\n",
      "[CV] END ...criterion=entropy, max_depth=3, n_estimators=200; total time=   8.1s\n",
      "[CV] END ...criterion=entropy, max_depth=3, n_estimators=200; total time=   8.0s\n",
      "[CV] END ...criterion=entropy, max_depth=3, n_estimators=200; total time=   8.2s\n",
      "[CV] END ...criterion=entropy, max_depth=3, n_estimators=200; total time=   8.7s\n",
      "[CV] END ...criterion=entropy, max_depth=3, n_estimators=200; total time=   9.3s\n",
      "[CV] END ...criterion=entropy, max_depth=3, n_estimators=300; total time=   9.1s\n",
      "[CV] END ...criterion=entropy, max_depth=3, n_estimators=300; total time=   8.8s\n",
      "[CV] END ...criterion=entropy, max_depth=3, n_estimators=300; total time=   9.1s\n",
      "[CV] END ...criterion=entropy, max_depth=3, n_estimators=300; total time=   8.9s\n",
      "[CV] END ...criterion=entropy, max_depth=5, n_estimators=100; total time=   7.8s\n",
      "[CV] END ...criterion=entropy, max_depth=3, n_estimators=300; total time=   9.1s\n",
      "[CV] END ...criterion=entropy, max_depth=5, n_estimators=100; total time=   7.6s\n",
      "[CV] END ...criterion=entropy, max_depth=5, n_estimators=100; total time=   7.2s\n",
      "[CV] END ...criterion=entropy, max_depth=5, n_estimators=100; total time=   7.8s\n",
      "[CV] END ...criterion=entropy, max_depth=5, n_estimators=100; total time=   7.7s\n",
      "[CV] END ...criterion=entropy, max_depth=5, n_estimators=200; total time=   9.1s\n",
      "[CV] END ...criterion=entropy, max_depth=5, n_estimators=200; total time=   8.7s\n",
      "[CV] END ...criterion=entropy, max_depth=5, n_estimators=200; total time=   8.4s\n",
      "[CV] END ...criterion=entropy, max_depth=5, n_estimators=200; total time=   8.8s\n",
      "[CV] END ...criterion=entropy, max_depth=5, n_estimators=200; total time=   8.4s\n",
      "[CV] END ...criterion=entropy, max_depth=5, n_estimators=300; total time=   8.4s\n",
      "[CV] END ...criterion=entropy, max_depth=5, n_estimators=300; total time=   7.5s\n",
      "[CV] END ...criterion=entropy, max_depth=5, n_estimators=300; total time=   7.3s\n",
      "[CV] END ...criterion=entropy, max_depth=5, n_estimators=300; total time=   4.8s\n",
      "[CV] END ...criterion=entropy, max_depth=5, n_estimators=300; total time=   5.9s\n"
     ]
    },
    {
     "data": {
      "text/html": [
       "<style>#sk-container-id-1 {color: black;background-color: white;}#sk-container-id-1 pre{padding: 0;}#sk-container-id-1 div.sk-toggleable {background-color: white;}#sk-container-id-1 label.sk-toggleable__label {cursor: pointer;display: block;width: 100%;margin-bottom: 0;padding: 0.3em;box-sizing: border-box;text-align: center;}#sk-container-id-1 label.sk-toggleable__label-arrow:before {content: \"▸\";float: left;margin-right: 0.25em;color: #696969;}#sk-container-id-1 label.sk-toggleable__label-arrow:hover:before {color: black;}#sk-container-id-1 div.sk-estimator:hover label.sk-toggleable__label-arrow:before {color: black;}#sk-container-id-1 div.sk-toggleable__content {max-height: 0;max-width: 0;overflow: hidden;text-align: left;background-color: #f0f8ff;}#sk-container-id-1 div.sk-toggleable__content pre {margin: 0.2em;color: black;border-radius: 0.25em;background-color: #f0f8ff;}#sk-container-id-1 input.sk-toggleable__control:checked~div.sk-toggleable__content {max-height: 200px;max-width: 100%;overflow: auto;}#sk-container-id-1 input.sk-toggleable__control:checked~label.sk-toggleable__label-arrow:before {content: \"▾\";}#sk-container-id-1 div.sk-estimator input.sk-toggleable__control:checked~label.sk-toggleable__label {background-color: #d4ebff;}#sk-container-id-1 div.sk-label input.sk-toggleable__control:checked~label.sk-toggleable__label {background-color: #d4ebff;}#sk-container-id-1 input.sk-hidden--visually {border: 0;clip: rect(1px 1px 1px 1px);clip: rect(1px, 1px, 1px, 1px);height: 1px;margin: -1px;overflow: hidden;padding: 0;position: absolute;width: 1px;}#sk-container-id-1 div.sk-estimator {font-family: monospace;background-color: #f0f8ff;border: 1px dotted black;border-radius: 0.25em;box-sizing: border-box;margin-bottom: 0.5em;}#sk-container-id-1 div.sk-estimator:hover {background-color: #d4ebff;}#sk-container-id-1 div.sk-parallel-item::after {content: \"\";width: 100%;border-bottom: 1px solid gray;flex-grow: 1;}#sk-container-id-1 div.sk-label:hover label.sk-toggleable__label {background-color: #d4ebff;}#sk-container-id-1 div.sk-serial::before {content: \"\";position: absolute;border-left: 1px solid gray;box-sizing: border-box;top: 0;bottom: 0;left: 50%;z-index: 0;}#sk-container-id-1 div.sk-serial {display: flex;flex-direction: column;align-items: center;background-color: white;padding-right: 0.2em;padding-left: 0.2em;position: relative;}#sk-container-id-1 div.sk-item {position: relative;z-index: 1;}#sk-container-id-1 div.sk-parallel {display: flex;align-items: stretch;justify-content: center;background-color: white;position: relative;}#sk-container-id-1 div.sk-item::before, #sk-container-id-1 div.sk-parallel-item::before {content: \"\";position: absolute;border-left: 1px solid gray;box-sizing: border-box;top: 0;bottom: 0;left: 50%;z-index: -1;}#sk-container-id-1 div.sk-parallel-item {display: flex;flex-direction: column;z-index: 1;position: relative;background-color: white;}#sk-container-id-1 div.sk-parallel-item:first-child::after {align-self: flex-end;width: 50%;}#sk-container-id-1 div.sk-parallel-item:last-child::after {align-self: flex-start;width: 50%;}#sk-container-id-1 div.sk-parallel-item:only-child::after {width: 0;}#sk-container-id-1 div.sk-dashed-wrapped {border: 1px dashed gray;margin: 0 0.4em 0.5em 0.4em;box-sizing: border-box;padding-bottom: 0.4em;background-color: white;}#sk-container-id-1 div.sk-label label {font-family: monospace;font-weight: bold;display: inline-block;line-height: 1.2em;}#sk-container-id-1 div.sk-label-container {text-align: center;}#sk-container-id-1 div.sk-container {/* jupyter's `normalize.less` sets `[hidden] { display: none; }` but bootstrap.min.css set `[hidden] { display: none !important; }` so we also need the `!important` here to be able to override the default hidden behavior on the sphinx rendered scikit-learn.org. See: https://github.com/scikit-learn/scikit-learn/issues/21755 */display: inline-block !important;position: relative;}#sk-container-id-1 div.sk-text-repr-fallback {display: none;}</style><div id=\"sk-container-id-1\" class=\"sk-top-container\"><div class=\"sk-text-repr-fallback\"><pre>GridSearchCV(cv=5, estimator=RandomForestClassifier(), n_jobs=-1,\n",
       "             param_grid={&#x27;criterion&#x27;: [&#x27;gini&#x27;, &#x27;entropy&#x27;],\n",
       "                         &#x27;max_depth&#x27;: [None, 1, 3, 5],\n",
       "                         &#x27;n_estimators&#x27;: [100, 200, 300]},\n",
       "             verbose=2)</pre><b>In a Jupyter environment, please rerun this cell to show the HTML representation or trust the notebook. <br />On GitHub, the HTML representation is unable to render, please try loading this page with nbviewer.org.</b></div><div class=\"sk-container\" hidden><div class=\"sk-item sk-dashed-wrapped\"><div class=\"sk-label-container\"><div class=\"sk-label sk-toggleable\"><input class=\"sk-toggleable__control sk-hidden--visually\" id=\"sk-estimator-id-1\" type=\"checkbox\" ><label for=\"sk-estimator-id-1\" class=\"sk-toggleable__label sk-toggleable__label-arrow\">GridSearchCV</label><div class=\"sk-toggleable__content\"><pre>GridSearchCV(cv=5, estimator=RandomForestClassifier(), n_jobs=-1,\n",
       "             param_grid={&#x27;criterion&#x27;: [&#x27;gini&#x27;, &#x27;entropy&#x27;],\n",
       "                         &#x27;max_depth&#x27;: [None, 1, 3, 5],\n",
       "                         &#x27;n_estimators&#x27;: [100, 200, 300]},\n",
       "             verbose=2)</pre></div></div></div><div class=\"sk-parallel\"><div class=\"sk-parallel-item\"><div class=\"sk-item\"><div class=\"sk-label-container\"><div class=\"sk-label sk-toggleable\"><input class=\"sk-toggleable__control sk-hidden--visually\" id=\"sk-estimator-id-2\" type=\"checkbox\" ><label for=\"sk-estimator-id-2\" class=\"sk-toggleable__label sk-toggleable__label-arrow\">estimator: RandomForestClassifier</label><div class=\"sk-toggleable__content\"><pre>RandomForestClassifier()</pre></div></div></div><div class=\"sk-serial\"><div class=\"sk-item\"><div class=\"sk-estimator sk-toggleable\"><input class=\"sk-toggleable__control sk-hidden--visually\" id=\"sk-estimator-id-3\" type=\"checkbox\" ><label for=\"sk-estimator-id-3\" class=\"sk-toggleable__label sk-toggleable__label-arrow\">RandomForestClassifier</label><div class=\"sk-toggleable__content\"><pre>RandomForestClassifier()</pre></div></div></div></div></div></div></div></div></div></div>"
      ],
      "text/plain": [
       "GridSearchCV(cv=5, estimator=RandomForestClassifier(), n_jobs=-1,\n",
       "             param_grid={'criterion': ['gini', 'entropy'],\n",
       "                         'max_depth': [None, 1, 3, 5],\n",
       "                         'n_estimators': [100, 200, 300]},\n",
       "             verbose=2)"
      ]
     },
     "execution_count": 18,
     "metadata": {},
     "output_type": "execute_result"
    }
   ],
   "source": [
    "\n",
    "# Parameter grid for grid search\n",
    "\n",
    "param_grid = {'n_estimators': [100, 200, 300],\n",
    "                'max_depth': [None, 1, 3, 5],\n",
    "                'criterion': ['gini', 'entropy']}\n",
    "\n",
    "# Create the model\n",
    "\n",
    "rf_model = RandomForestClassifier()\n",
    "\n",
    "# Create the grid search object\n",
    "\n",
    "grid_search = GridSearchCV(estimator=rf_model, param_grid=param_grid,\n",
    "                            cv=5, verbose=2, n_jobs=-1)\n",
    "\n",
    "# Fit the grid search object to the data\n",
    "\n",
    "grid_search.fit(X_train, y_train)\n",
    "\n"
   ]
  },
  {
   "cell_type": "code",
   "execution_count": 19,
   "metadata": {},
   "outputs": [
    {
     "name": "stdout",
     "output_type": "stream",
     "text": [
      "{'criterion': 'gini', 'max_depth': None, 'n_estimators': 300}\n",
      "Accuracy: 0.9661654135338346\n",
      "Classification Report:\n",
      "               precision    recall  f1-score   support\n",
      "\n",
      "           0       0.95      0.98      0.96       134\n",
      "           1       0.99      0.93      0.96        96\n",
      "           2       0.95      0.93      0.94        80\n",
      "           3       0.96      1.00      0.98       131\n",
      "           4       0.99      0.98      0.98        91\n",
      "\n",
      "    accuracy                           0.97       532\n",
      "   macro avg       0.97      0.96      0.96       532\n",
      "weighted avg       0.97      0.97      0.97       532\n",
      "\n"
     ]
    }
   ],
   "source": [
    "\n",
    "\n",
    "# Get the best parameters\n",
    "\n",
    "print(grid_search.best_params_)\n",
    "\n",
    "\n",
    "# Get the best estimator\n",
    "\n",
    "best_model = grid_search.best_estimator_\n",
    "\n",
    "# Make predictions\n",
    "y_pred = best_model.predict(X_test)\n",
    "\n",
    "\n",
    "# Evaluate the model\n",
    "print('Accuracy:', accuracy_score(y_test, y_pred))\n",
    "print('Classification Report:\\n', classification_report(y_test, y_pred))\n",
    "\n"
   ]
  },
  {
   "cell_type": "code",
   "execution_count": 20,
   "metadata": {},
   "outputs": [
    {
     "data": {
      "image/png": "[encoded data removed]",
      "text/plain": [
       "<Figure size 1000x800 with 2 Axes>"
      ]
     },
     "metadata": {},
     "output_type": "display_data"
    }
   ],
   "source": [
    "\n",
    "# Confusion matrix\n",
    "\n",
    "cm = confusion_matrix(y_pred, y_test)\n",
    "\n",
    "# Plot the confusion matrix\n",
    "\n",
    "plt.figure(figsize=(10, 8))\n",
    "\n",
    "# Print value in boxes in format\n",
    "sns.heatmap(cm, annot=True, xticklabels=labels,\n",
    "            yticklabels=labels, cmap='Blues')\n",
    "\n",
    "# Labels\n",
    "\n",
    "plt.xlabel('Predicted')\n",
    "plt.ylabel('Actual')\n",
    "\n",
    "# Title\n",
    "\n",
    "plt.title('Confusion Matrix for Random Forest Model ( Hyper Parameter Tuning)')\n",
    "\n",
    "# Save the plot\n",
    "\n",
    "plt.savefig('Resources/Confusion_Matrix_Random_Forest_Grid_Search.png',\n",
    "            dpi=300, bbox_inches='tight')\n",
    "\n",
    "\n"
   ]
  },
  {
   "cell_type": "markdown",
   "metadata": {},
   "source": [
    "## 5. Saving"
   ]
  },
  {
   "cell_type": "code",
   "execution_count": 21,
   "metadata": {},
   "outputs": [],
   "source": [
    "\n",
    "import pickle\n",
    "\n",
    "# Save the model\n",
    "with open('Resources/Random_Forest_Model.pkl', 'wb') as f:\n",
    "    pickle.dump(rf_model, f)\n",
    "\n",
    "\n",
    "# Save the model\n",
    "with open('Resources/KNN_Model.pkl', 'wb') as f:\n",
    "    pickle.dump(knn_model, f)\n",
    "\n",
    "\n",
    "# Save the model\n",
    "with open('Resources/XGBoost_Model.pkl', 'wb') as f:\n",
    "    pickle.dump(xgb_model, f)\n",
    "\n",
    "\n",
    "# Save the grid search object\n",
    "\n",
    "with open('Resources/Grid_Search_Random_Search.pkl', 'wb') as f:\n",
    "    pickle.dump(grid_search, f)\n",
    "\n",
    "\n",
    "# Save the vectorizer\n",
    "with open('Resources/TFIDF_Vectorizer.pkl', 'wb') as f:\n",
    "    pickle.dump(vectorizer, f)\n",
    "\n",
    "\n",
    "# Save the encoder\n",
    "with open('Resources/Label_Encoder.pkl', 'wb') as f:\n",
    "    pickle.dump(le, f)\n",
    "\n",
    "\n",
    "# Save the labels\n",
    "with open('Resources/Labels.pkl', 'wb') as f:\n",
    "    pickle.dump(labels, f)\n"
   ]
  }
 ],
 "metadata": {
  "kernelspec": {
   "display_name": "Python 3 (ipykernel)",
   "language": "python",
   "name": "python3"
  },
  "language_info": {
   "codemirror_mode": {
    "name": "ipython",
    "version": 3
   },
   "file_extension": ".py",
   "mimetype": "text/x-python",
   "name": "python",
   "nbconvert_exporter": "python",
   "pygments_lexer": "ipython3",
   "version": "3.10.6"
  }
 },
 "nbformat": 4,
 "nbformat_minor": 2
}
