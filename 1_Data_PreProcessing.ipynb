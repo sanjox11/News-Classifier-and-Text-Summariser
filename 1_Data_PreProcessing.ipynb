{
 "cells": [
  {
   "attachments": {},
   "cell_type": "markdown",
   "metadata": {},
   "source": [
    "## Table of Contents\n",
    "1. Importing Libraries\n",
    "2. Loading Data\n",
    "3. Data Preprocessing\n",
    "4. Save Data"
   ]
  },
  {
   "attachments": {},
   "cell_type": "markdown",
   "metadata": {},
   "source": [
    "## 1. Imports and Settings"
   ]
  },
  {
   "cell_type": "code",
   "execution_count": 1,
   "metadata": {},
   "outputs": [],
   "source": [
    "\n",
    "import pandas as pd\n",
    "import numpy as np\n",
    "import nltk\n",
    "\n",
    "import os\n",
    "import warnings\n",
    "import re\n",
    "import pickle\n",
    "warnings.filterwarnings('ignore')\n",
    "\n"
   ]
  },
  {
   "attachments": {},
   "cell_type": "markdown",
   "metadata": {},
   "source": [
    "## 2. Load Data"
   ]
  },
  {
   "cell_type": "code",
   "execution_count": 2,
   "metadata": {},
   "outputs": [],
   "source": [
    "\n",
    "# Current working directory\n",
    "cwd='DataSet/BBC News Summary/'\n",
    "\n",
    "# Path to the files\n",
    "article_path=cwd+'News Articles/'\n",
    "summary_path=cwd+'Summaries/'\n",
    "\n",
    "# List of folders in the path\n",
    "article_folders=os.listdir(article_path)\n",
    "summary_folders=os.listdir(summary_path)\n",
    "\n",
    "# List of files in the path\n",
    "article_files=[]\n",
    "summary_files=[]\n",
    "\n",
    "for folder in article_folders:\n",
    "    # append name with folder name\n",
    "    article_files.append([folder+'/'+file for file in os.listdir(article_path+folder)])\n",
    "\n",
    "\n",
    "for folder in summary_folders:\n",
    "    # append name with folder name\n",
    "    summary_files.append([folder+'/'+file for file in os.listdir(summary_path+folder)])\n",
    "\n",
    "\n",
    "# Flatten the list\n",
    "article_files=[item for sublist in article_files for item in sublist]\n",
    "summary_files=[item for sublist in summary_files for item in sublist]\n",
    "\n",
    "\n",
    "# Sort the list\n",
    "article_files.sort()\n",
    "summary_files.sort()\n"
   ]
  },
  {
   "cell_type": "code",
   "execution_count": 3,
   "metadata": {},
   "outputs": [
    {
     "data": {
      "text/plain": [
       "['DataSet/BBC News Summary/News Articles/business/001.txt',\n",
       " 'DataSet/BBC News Summary/News Articles/business/002.txt',\n",
       " 'DataSet/BBC News Summary/News Articles/business/003.txt',\n",
       " 'DataSet/BBC News Summary/News Articles/business/004.txt',\n",
       " 'DataSet/BBC News Summary/News Articles/business/005.txt']"
      ]
     },
     "execution_count": 3,
     "metadata": {},
     "output_type": "execute_result"
    }
   ],
   "source": [
    "\n",
    "# Path to the files\n",
    "article_files=[article_path+file for file in article_files]\n",
    "summary_files=[summary_path+file for file in summary_files]\n",
    "\n",
    "# Sample files\n",
    "article_files[:5]"
   ]
  },
  {
   "cell_type": "code",
   "execution_count": 4,
   "metadata": {},
   "outputs": [
    {
     "data": {
      "text/plain": [
       "['DataSet/BBC News Summary/Summaries/business/001.txt',\n",
       " 'DataSet/BBC News Summary/Summaries/business/002.txt',\n",
       " 'DataSet/BBC News Summary/Summaries/business/003.txt',\n",
       " 'DataSet/BBC News Summary/Summaries/business/004.txt',\n",
       " 'DataSet/BBC News Summary/Summaries/business/005.txt']"
      ]
     },
     "execution_count": 4,
     "metadata": {},
     "output_type": "execute_result"
    }
   ],
   "source": [
    "\n",
    "# Sample files\n",
    "summary_files[:5]"
   ]
  },
  {
   "cell_type": "code",
   "execution_count": 5,
   "metadata": {},
   "outputs": [
    {
     "name": "stdout",
     "output_type": "stream",
     "text": [
      "Start\n",
      "Ad sales boost Time Warner profitQuarterly profits at US media giant TimeWarner jumped 76% to $1.13bn (£600m) for the three months to December, from $639m year-earlier.The firm, which is now one of the biggest investors in Google, benefited from sales of high-speed internet connections and higher advert sales. TimeWarner said fourth quarter sales rose 2% to $11.1bn from $10.9bn. Its profits were buoyed by one-off gains which offset a profit dip at Warner Bros, and less users for AOL.Time Warner said on Friday that it now owns 8% of search-engine Google. But its own internet business, AOL, had has mixed fortunes. It lost 464,000 subscribers in the fourth quarter profits were lower than in the preceding three quarters. However, the company said AOL's underlying profit before exceptional items rose 8% on the back of stronger internet advertising revenues. It hopes to increase subscribers by offering the online service free to TimeWarner internet customers and will try to sign up AOL's existing customers for high-speed broadband. TimeWarner also has to restate 2000 and 2003 results following a probe by the US Securities Exchange Commission (SEC), which is close to concluding.Time Warner's fourth quarter profits were slightly better than analysts' expectations. But its film division saw profits slump 27% to $284m, helped by box-office flops Alexander and Catwoman, a sharp contrast to year-earlier, when the third and final film in the Lord of the Rings trilogy boosted results. For the full-year, TimeWarner posted a profit of $3.36bn, up 27% from its 2003 performance, while revenues grew 6.4% to $42.09bn. \"Our financial performance was strong, meeting or exceeding all of our full-year objectives and greatly enhancing our flexibility,\" chairman and chief executive Richard Parsons said. For 2005, TimeWarner is projecting operating earnings growth of around 5%, and also expects higher revenue and wider profit margins.TimeWarner is to restate its accounts as part of efforts to resolve an inquiry into AOL by US market regulators. It has already offered to pay $300m to settle charges, in a deal that is under review by the SEC. The company said it was unable to estimate the amount it needed to set aside for legal reserves, which it previously set at $500m. It intends to adjust the way it accounts for a deal with German music publisher Bertelsmann's purchase of a stake in AOL Europe, which it had reported as advertising revenue. It will now book the sale of its stake in AOL Europe as a loss on the value of that stake.\n",
      "End\n",
      "TimeWarner said fourth quarter sales rose 2% to $11.1bn from $10.9bn.For the full-year, TimeWarner posted a profit of $3.36bn, up 27% from its 2003 performance, while revenues grew 6.4% to $42.09bn.Quarterly profits at US media giant TimeWarner jumped 76% to $1.13bn (£600m) for the three months to December, from $639m year-earlier.However, the company said AOL's underlying profit before exceptional items rose 8% on the back of stronger internet advertising revenues.Its profits were buoyed by one-off gains which offset a profit dip at Warner Bros, and less users for AOL.For 2005, TimeWarner is projecting operating earnings growth of around 5%, and also expects higher revenue and wider profit margins.It lost 464,000 subscribers in the fourth quarter profits were lower than in the preceding three quarters.Time Warner's fourth quarter profits were slightly better than analysts' expectations.\n"
     ]
    }
   ],
   "source": [
    "# Read the first article and summary\n",
    "\n",
    "with open(article_files[0], 'r') as file:\n",
    "    article = file.read().replace('\\n', '')\n",
    "\n",
    "\n",
    "with open(summary_files[0], 'r') as file:\n",
    "    summary = file.read().replace('\\n', '')\n",
    "\n",
    "print(\"Start\")\n",
    "print(article)\n",
    "print(\"End\")\n",
    "print(summary)"
   ]
  },
  {
   "cell_type": "code",
   "execution_count": 6,
   "metadata": {},
   "outputs": [
    {
     "data": {
      "text/html": [
       "<div>\n",
       "<style scoped>\n",
       "    .dataframe tbody tr th:only-of-type {\n",
       "        vertical-align: middle;\n",
       "    }\n",
       "\n",
       "    .dataframe tbody tr th {\n",
       "        vertical-align: top;\n",
       "    }\n",
       "\n",
       "    .dataframe thead th {\n",
       "        text-align: right;\n",
       "    }\n",
       "</style>\n",
       "<table border=\"1\" class=\"dataframe\">\n",
       "  <thead>\n",
       "    <tr style=\"text-align: right;\">\n",
       "      <th></th>\n",
       "      <th>Article</th>\n",
       "      <th>Summary</th>\n",
       "      <th>Category</th>\n",
       "    </tr>\n",
       "  </thead>\n",
       "  <tbody>\n",
       "    <tr>\n",
       "      <th>0</th>\n",
       "      <td>Ad sales boost Time Warner profitQuarterly pro...</td>\n",
       "      <td>TimeWarner said fourth quarter sales rose 2% t...</td>\n",
       "      <td>business</td>\n",
       "    </tr>\n",
       "    <tr>\n",
       "      <th>1</th>\n",
       "      <td>Dollar gains on Greenspan speechThe dollar has...</td>\n",
       "      <td>The dollar has hit its highest level against t...</td>\n",
       "      <td>business</td>\n",
       "    </tr>\n",
       "    <tr>\n",
       "      <th>2</th>\n",
       "      <td>Yukos unit buyer faces loan claimThe owners of...</td>\n",
       "      <td>Yukos' owner Menatep Group says it will ask Ro...</td>\n",
       "      <td>business</td>\n",
       "    </tr>\n",
       "    <tr>\n",
       "      <th>3</th>\n",
       "      <td>High fuel prices hit BA's profitsBritish Airwa...</td>\n",
       "      <td>Rod Eddington, BA's chief executive, said the ...</td>\n",
       "      <td>business</td>\n",
       "    </tr>\n",
       "    <tr>\n",
       "      <th>4</th>\n",
       "      <td>Pernod takeover talk lifts DomecqShares in UK ...</td>\n",
       "      <td>Pernod has reduced the debt it took on to fund...</td>\n",
       "      <td>business</td>\n",
       "    </tr>\n",
       "  </tbody>\n",
       "</table>\n",
       "</div>"
      ],
      "text/plain": [
       "                                             Article  \\\n",
       "0  Ad sales boost Time Warner profitQuarterly pro...   \n",
       "1  Dollar gains on Greenspan speechThe dollar has...   \n",
       "2  Yukos unit buyer faces loan claimThe owners of...   \n",
       "3  High fuel prices hit BA's profitsBritish Airwa...   \n",
       "4  Pernod takeover talk lifts DomecqShares in UK ...   \n",
       "\n",
       "                                             Summary  Category  \n",
       "0  TimeWarner said fourth quarter sales rose 2% t...  business  \n",
       "1  The dollar has hit its highest level against t...  business  \n",
       "2  Yukos' owner Menatep Group says it will ask Ro...  business  \n",
       "3  Rod Eddington, BA's chief executive, said the ...  business  \n",
       "4  Pernod has reduced the debt it took on to fund...  business  "
      ]
     },
     "execution_count": 6,
     "metadata": {},
     "output_type": "execute_result"
    }
   ],
   "source": [
    "\n",
    "# Read all the articles and summaries and store them in a dataframe along with news category\n",
    "\n",
    "\n",
    "# Create empty lists\n",
    "articles=[]\n",
    "summaries=[]\n",
    "categories=[]\n",
    "category=[]\n",
    "\n",
    "# Read the files\n",
    "for file in article_files:\n",
    "    with open(file, 'r',encoding=\"utf8\", errors='ignore') as f:\n",
    "        articles.append(f.read().replace('\\n', ''))\n",
    "        category.append(file.split('/')[3])\n",
    "\n",
    "for file in summary_files:\n",
    "    with open(file, 'r',encoding=\"utf8\", errors='ignore') as f:\n",
    "        summaries.append(f.read().replace('\\n', ''))\n",
    "\n",
    "# Create a dataframe\n",
    "\n",
    "df=pd.DataFrame({'Article':articles,'Summary':summaries,'Category':category})\n",
    "df.head()\n",
    "\n",
    "\n"
   ]
  },
  {
   "attachments": {},
   "cell_type": "markdown",
   "metadata": {},
   "source": [
    "## 3. Data Preprocessing"
   ]
  },
  {
   "cell_type": "code",
   "execution_count": 7,
   "metadata": {},
   "outputs": [],
   "source": [
    "contractions_dictionary = {\"ain't\": \"is not\", \"aren't\": \"are not\",\"can't\": \"cannot\", \"'cause\": \"because\", \"could've\": \"could have\", \"couldn't\": \"could not\",\n",
    "                           \"didn't\": \"did not\", \"doesn't\": \"does not\", \"don't\": \"do not\", \"hadn't\": \"had not\", \"hasn't\": \"has not\", \"haven't\": \"have not\",\n",
    "                           \"he'd\": \"he would\",\"he'll\": \"he will\", \"he's\": \"he is\", \"how'd\": \"how did\", \"how'd'y\": \"how do you\", \"how'll\": \"how will\", \"how's\": \"how is\",\n",
    "                           \"I'd\": \"I would\", \"I'd've\": \"I would have\", \"I'll\": \"I will\", \"I'll've\": \"I will have\",\"I'm\": \"I am\", \"I've\": \"I have\", \"i'd\": \"i would\",\n",
    "                           \"i'd've\": \"i would have\", \"i'll\": \"i will\",  \"i'll've\": \"i will have\",\"i'm\": \"i am\", \"i've\": \"i have\", \"isn't\": \"is not\", \"it'd\": \"it would\",\n",
    "                           \"it'd've\": \"it would have\", \"it'll\": \"it will\", \"it'll've\": \"it will have\",\"it's\": \"it is\", \"let's\": \"let us\", \"ma'am\": \"madam\",\n",
    "                           \"mayn't\": \"may not\", \"might've\": \"might have\",\"mightn't\": \"might not\",\"mightn't've\": \"might not have\", \"must've\": \"must have\",\n",
    "                           \"mustn't\": \"must not\", \"mustn't've\": \"must not have\", \"needn't\": \"need not\", \"needn't've\": \"need not have\",\"o'clock\": \"of the clock\",\n",
    "                           \"oughtn't\": \"ought not\", \"oughtn't've\": \"ought not have\", \"shan't\": \"shall not\", \"sha'n't\": \"shall not\", \"shan't've\": \"shall not have\",\n",
    "                           \"she'd\": \"she would\", \"she'd've\": \"she would have\", \"she'll\": \"she will\", \"she'll've\": \"she will have\", \"she's\": \"she is\",\n",
    "                           \"should've\": \"should have\", \"shouldn't\": \"should not\", \"shouldn't've\": \"should not have\", \"so've\": \"so have\",\"so's\": \"so as\",\n",
    "                           \"this's\": \"this is\",\"that'd\": \"that would\", \"that'd've\": \"that would have\", \"that's\": \"that is\", \"there'd\": \"there would\",\n",
    "                           \"there'd've\": \"there would have\", \"there's\": \"there is\", \"here's\": \"here is\",\"they'd\": \"they would\", \"they'd've\": \"they would have\",\n",
    "                           \"they'll\": \"they will\", \"they'll've\": \"they will have\", \"they're\": \"they are\", \"they've\": \"they have\", \"to've\": \"to have\",\n",
    "                           \"wasn't\": \"was not\", \"we'd\": \"we would\", \"we'd've\": \"we would have\", \"we'll\": \"we will\", \"we'll've\": \"we will have\", \"we're\": \"we are\",\n",
    "                           \"we've\": \"we have\", \"weren't\": \"were not\", \"what'll\": \"what will\", \"what'll've\": \"what will have\", \"what're\": \"what are\",\n",
    "                           \"what's\": \"what is\", \"what've\": \"what have\", \"when's\": \"when is\", \"when've\": \"when have\", \"where'd\": \"where did\", \"where's\": \"where is\",\n",
    "                           \"where've\": \"where have\", \"who'll\": \"who will\", \"who'll've\": \"who will have\", \"who's\": \"who is\", \"who've\": \"who have\",\n",
    "                           \"why's\": \"why is\", \"why've\": \"why have\", \"will've\": \"will have\", \"won't\": \"will not\", \"won't've\": \"will not have\",\n",
    "                           \"would've\": \"would have\", \"wouldn't\": \"would not\", \"wouldn't've\": \"would not have\", \"y'all\": \"you all\",\n",
    "                           \"y'all'd\": \"you all would\",\"y'all'd've\": \"you all would have\",\"y'all're\": \"you all are\",\"y'all've\": \"you all have\",\n",
    "                           \"you'd\": \"you would\", \"you'd've\": \"you would have\", \"you'll\": \"you will\", \"you'll've\": \"you will have\",\n",
    "                           \"you're\": \"you are\", \"you've\": \"you have\"}\n",
    "                           \n"
   ]
  },
  {
   "cell_type": "code",
   "execution_count": 8,
   "metadata": {},
   "outputs": [],
   "source": [
    "\n",
    "# Our Custom Function to clean the text\n",
    "\n",
    "\n",
    "def clean_text(text):\n",
    "\n",
    "    # Lower case\n",
    "    text=text.lower()\n",
    "\n",
    "    # Expand the words\n",
    "    text=' '.join([contractions_dictionary[i] if i in contractions_dictionary.keys() else i for i in text.split()])\n",
    "\n",
    "    # Remove punctuations\n",
    "    text=re.sub(r'[^\\w\\s]','',text)\n",
    "\n",
    "    # Remove numbers\n",
    "    text=re.sub(r'\\d+','',text)\n",
    "\n",
    "    # Remove extra spaces\n",
    "    text=re.sub(r'\\s+',' ',text)\n",
    "\n",
    "    # Remove extra spaces from start and end\n",
    "    text=text.strip()\n",
    "\n",
    "\n",
    "    return text\n"
   ]
  },
  {
   "cell_type": "code",
   "execution_count": 9,
   "metadata": {},
   "outputs": [
    {
     "data": {
      "text/html": [
       "<div>\n",
       "<style scoped>\n",
       "    .dataframe tbody tr th:only-of-type {\n",
       "        vertical-align: middle;\n",
       "    }\n",
       "\n",
       "    .dataframe tbody tr th {\n",
       "        vertical-align: top;\n",
       "    }\n",
       "\n",
       "    .dataframe thead th {\n",
       "        text-align: right;\n",
       "    }\n",
       "</style>\n",
       "<table border=\"1\" class=\"dataframe\">\n",
       "  <thead>\n",
       "    <tr style=\"text-align: right;\">\n",
       "      <th></th>\n",
       "      <th>Article</th>\n",
       "      <th>Summary</th>\n",
       "      <th>Category</th>\n",
       "      <th>Article_Length</th>\n",
       "      <th>Summary_Length</th>\n",
       "    </tr>\n",
       "  </thead>\n",
       "  <tbody>\n",
       "    <tr>\n",
       "      <th>0</th>\n",
       "      <td>ad sales boost time warner profitquarterly pro...</td>\n",
       "      <td>timewarner said fourth quarter sales rose to b...</td>\n",
       "      <td>business</td>\n",
       "      <td>403</td>\n",
       "      <td>125</td>\n",
       "    </tr>\n",
       "    <tr>\n",
       "      <th>1</th>\n",
       "      <td>dollar gains on greenspan speechthe dollar has...</td>\n",
       "      <td>the dollar has hit its highest level against t...</td>\n",
       "      <td>business</td>\n",
       "      <td>377</td>\n",
       "      <td>159</td>\n",
       "    </tr>\n",
       "    <tr>\n",
       "      <th>2</th>\n",
       "      <td>yukos unit buyer faces loan claimthe owners of...</td>\n",
       "      <td>yukos owner menatep group says it will ask ros...</td>\n",
       "      <td>business</td>\n",
       "      <td>261</td>\n",
       "      <td>121</td>\n",
       "    </tr>\n",
       "    <tr>\n",
       "      <th>3</th>\n",
       "      <td>high fuel prices hit bas profitsbritish airway...</td>\n",
       "      <td>rod eddington bas chief executive said the res...</td>\n",
       "      <td>business</td>\n",
       "      <td>376</td>\n",
       "      <td>186</td>\n",
       "    </tr>\n",
       "    <tr>\n",
       "      <th>4</th>\n",
       "      <td>pernod takeover talk lifts domecqshares in uk ...</td>\n",
       "      <td>pernod has reduced the debt it took on to fund...</td>\n",
       "      <td>business</td>\n",
       "      <td>254</td>\n",
       "      <td>100</td>\n",
       "    </tr>\n",
       "  </tbody>\n",
       "</table>\n",
       "</div>"
      ],
      "text/plain": [
       "                                             Article  \\\n",
       "0  ad sales boost time warner profitquarterly pro...   \n",
       "1  dollar gains on greenspan speechthe dollar has...   \n",
       "2  yukos unit buyer faces loan claimthe owners of...   \n",
       "3  high fuel prices hit bas profitsbritish airway...   \n",
       "4  pernod takeover talk lifts domecqshares in uk ...   \n",
       "\n",
       "                                             Summary  Category  \\\n",
       "0  timewarner said fourth quarter sales rose to b...  business   \n",
       "1  the dollar has hit its highest level against t...  business   \n",
       "2  yukos owner menatep group says it will ask ros...  business   \n",
       "3  rod eddington bas chief executive said the res...  business   \n",
       "4  pernod has reduced the debt it took on to fund...  business   \n",
       "\n",
       "   Article_Length  Summary_Length  \n",
       "0             403             125  \n",
       "1             377             159  \n",
       "2             261             121  \n",
       "3             376             186  \n",
       "4             254             100  "
      ]
     },
     "execution_count": 9,
     "metadata": {},
     "output_type": "execute_result"
    }
   ],
   "source": [
    "df.Article=df.Article.apply(clean_text)\n",
    "df.Summary=df.Summary.apply(clean_text)\n",
    "\n",
    "df.dropna(inplace=True)\n",
    "df.reset_index(drop=True,inplace=True)\n",
    "\n",
    "df['Article_Length']=df.Article.apply(lambda x:len(x.split()))\n",
    "df['Summary_Length']=df.Summary.apply(lambda x:len(x.split()))\n",
    "\n",
    "\n",
    "df.head()"
   ]
  },
  {
   "attachments": {},
   "cell_type": "markdown",
   "metadata": {},
   "source": [
    "## 4. Save Data"
   ]
  },
  {
   "cell_type": "code",
   "execution_count": 10,
   "metadata": {},
   "outputs": [],
   "source": [
    "\n",
    "# Save the dataframe into a csv file\n",
    "df.to_csv('Resources/BBC_News_Summary.csv',index=False)\n"
   ]
  }
 ],
 "metadata": {
  "kernelspec": {
   "display_name": "Python 3",
   "language": "python",
   "name": "python3"
  },
  "language_info": {
   "codemirror_mode": {
    "name": "ipython",
    "version": 3
   },
   "file_extension": ".py",
   "mimetype": "text/x-python",
   "name": "python",
   "nbconvert_exporter": "python",
   "pygments_lexer": "ipython3",
   "version": "3.10.6"
  },
  "orig_nbformat": 4,
  "vscode": {
   "interpreter": {
    "hash": "916dbcbb3f70747c44a77c7bcd40155683ae19c65e1c03b4aa3499c5328201f1"
   }
  }
 },
 "nbformat": 4,
 "nbformat_minor": 2
}
