{
 "cells": [
  {
   "cell_type": "code",
   "execution_count": 1,
   "metadata": {},
   "outputs": [
    {
     "name": "stdout",
     "output_type": "stream",
     "text": [
      "['business' 'entertainment' 'politics' 'sport' 'tech']\n"
     ]
    }
   ],
   "source": [
    "\n",
    "import pickle\n",
    "\n",
    "\n",
    "# import tfidf from pickle\n",
    "tfidf=pickle.load(open('Resources/TFIDF_Vectorizer.pkl','rb'))\n",
    "\n",
    "gs_rf_model=pickle.load(open('Resources/Grid_Search_Random_Search.pkl','rb'))\n",
    "\n",
    "# Label Encoder\n",
    "lbl_encoder=pickle.load(open('Resources/Label_Encoder.pkl','rb'))\n",
    "\n",
    "category=lbl_encoder.classes_\n",
    "\n",
    "print(category)\n"
   ]
  },
  {
   "cell_type": "code",
   "execution_count": 2,
   "metadata": {},
   "outputs": [
    {
     "name": "stdout",
     "output_type": "stream",
     "text": [
      "[0]\n",
      "['business']\n"
     ]
    }
   ],
   "source": [
    "\n",
    "# Sample News-1 (Actual Business)\n",
    "# Link : https://timesofindia.indiatimes.com/business/india-business/nmdc-in-talks-with-australias-hancock-for-lithium-mining/articleshow/99931452.cms\n",
    "\n",
    "news_1=\"NEW DELHI: Indian iron ore miner NMDC Ltd is in talks with Australia's Hancock Prospecting Pty Ltd for lithium exploration and mining, a source familiar with the matter told Reuters on Tuesday.Countries across the world are racing to secure lithium supplies for rechargeable batteries for future fleets of electric vehicles in the global transition to green energy.India, which found its first reserves of the mineral in February, has also been exploring ways to shore up supplies by acquiring overseas mines.Lithium exploration is at a very nascent stage, but we are talking to Hancock Prospecting for their investments into it, said the source, who didn't want to be named because he is not authorised to talk to media. NMDC shares rose as much as 1.8% Tuesday on the news. The miner did not immediately respond to a request for comment.Separately, NMDC is also working on plans to export low-grade iron ore to China, the source said. The miner could collaborate with another company to process and ship out the ore to China, he said.China is India's biggest iron ore customer, importing around 80% of India's overall shipments.Indian producers of low-grade ores largely depend on foreign markets because most major domestic steel producers use high-grade iron ores.NMDC is also expecting to receive forest clearances by June for diamond mining in the central Indian state of Madhya Pradesh, the source said.The mine produces around 10 carats of diamond per 100 tonnes of Kimberlite processed, according to the details provided by the company on its website.\"\n",
    "\n",
    "\n",
    "# transform sample news using tfidf\n",
    "tfidf_1 = tfidf.transform([news_1])\n",
    "\n",
    "# predict sample news using random forest model\n",
    "pred_1 = gs_rf_model.predict(tfidf_1)\n",
    "\n",
    "# print prediction\n",
    "print(pred_1)\n",
    "\n",
    "print(category[pred_1])"
   ]
  },
  {
   "cell_type": "code",
   "execution_count": 3,
   "metadata": {},
   "outputs": [
    {
     "name": "stdout",
     "output_type": "stream",
     "text": [
      "[3]\n",
      "['sport']\n"
     ]
    }
   ],
   "source": [
    "\n",
    "\n",
    "# Sample News 2 (Actual Sports)\n",
    "# Link : https://www.thehindu.com/sport/cricket/ipl-2023-pbks-vs-mi-punjab-to-test-mumbais-class-in-crucial-game/article66803129.ece\n",
    "\n",
    "news_2=\"Five-time champions Mumbai Indians' class and pedigree will once again be tested when they take on an unpredictable Punjab Kings in a crucial Indian Premier League match in Mohali on May 3.A win will give MI the much-needed push on the points table, while a loss will see them slip further and chart a familiar course like the previous edition. MI had finished 10th and last in the previous edition.he Mumbai team is currently placed seventh with eight points from eight matches and things are not looking great for Rohit Sharma's side.The win against Rajasthan Royals at the Wankhede Stadium on April 30, though, would have instilled a fair bit of confidence in the MI team after it chased down a massive 212 with three balls to spare to earn two valuable points.The win was crafted by Singapore-born Australian cricketer Tim David, who smashed three sixes on the trot in the final over during his 14-ball unbeaten 45 to snatch victory from the jaws of defeat.While there were vital contributions from India's T20 specialist batter Suryakumar Yadav (55), tall Australian all-rounder Cameron Green (44), Ishan Kishan (28) and Tilak Varma (29 not out), none could match the ferocity of David's strokes.The 27-year-old middle-order batter smashed five sixes and two boundaries at a strike rate in excess of 300 as Mumbai Indians won on home turf.A similar commitment would be required against Punjab Kings, who are known to play aggressive cricket, though their biggest drawback is an unreliable top order.Barring Shikhar Dhawan and to an extent his opening partner Prabhsimran Singh, very few PBKS batters have contributed enough to their overall totals, though all that changed in their previous game against Chennai Super Kings at Chepauk on April 30.Set a stiff 200-run target by MS Dhoni's side, the entire top and middle-order came to the party to win a last-ball thriller by four wickets. With Prabhsimran and Dhawan laying a good foundation in powerplay, England all-rounder Liam Livingstone, Sam Curran and wicketkeeper-batter Jitesh Sharma all chipped in to make it a memorable chase.The team, though, will likely have to face the fiery pace of Mumbai Indians' Jofra Archer, who was back in the game against Rajasthan Royals, bowling his quota of overs and taking a wicket as well.MI skipper Rohit's form, though, is the biggest concern for the five-time IPL champions and much would depend on the India captain on Wednesday to shore up his side, after contributing just three runs in the match against the Royals.\"\n",
    "\n",
    "\n",
    "# Transofrm using tfidf\n",
    "tfidf_2=tfidf.transform([news_2])\n",
    "\n",
    "# Predict using RF Model\n",
    "pred_2=gs_rf_model.predict(tfidf_2)\n",
    "\n",
    "# Print Prediction\n",
    "print(pred_2)\n",
    "\n",
    "print(category[pred_2])\n",
    "\n"
   ]
  }
 ],
 "metadata": {
  "kernelspec": {
   "display_name": "Python 3 (ipykernel)",
   "language": "python",
   "name": "python3"
  },
  "language_info": {
   "codemirror_mode": {
    "name": "ipython",
    "version": 3
   },
   "file_extension": ".py",
   "mimetype": "text/x-python",
   "name": "python",
   "nbconvert_exporter": "python",
   "pygments_lexer": "ipython3",
   "version": "3.10.6"
  }
 },
 "nbformat": 4,
 "nbformat_minor": 2
}
